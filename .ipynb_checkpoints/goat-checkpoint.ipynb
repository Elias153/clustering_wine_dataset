{
 "cells": [
  {
   "metadata": {},
   "cell_type": "raw",
   "source": "Lade den Datensatz",
   "id": "d6162b0c21f153f0"
  },
  {
   "metadata": {
    "ExecuteTime": {
     "end_time": "2025-07-05T18:38:39.395728Z",
     "start_time": "2025-07-05T18:38:39.393666Z"
    }
   },
   "cell_type": "code",
   "source": [
    "import os\n",
    "os.environ[\"OMP_NUM_THREADS\"] = \"7\""
   ],
   "id": "e720978101c83ff6",
   "outputs": [],
   "execution_count": 203
  },
  {
   "metadata": {
    "ExecuteTime": {
     "end_time": "2025-07-05T18:38:39.428526Z",
     "start_time": "2025-07-05T18:38:39.423965Z"
    }
   },
   "cell_type": "code",
   "source": [
    "# Import required libraries\n",
    "import pandas as pd\n",
    "import plotly.express as px\n",
    "import numpy as np\n",
    "from sklearn.preprocessing import StandardScaler\n",
    "from sklearn.cluster import KMeans\n",
    "from sklearn.metrics import silhouette_score\n",
    "import matplotlib.pyplot as plt\n",
    "import seaborn as sns\n",
    "\n",
    "data = pd.read_csv('./winequality-red.csv', sep=\",\")"
   ],
   "id": "2d2d0f49dc66eb46",
   "outputs": [],
   "execution_count": 204
  },
  {
   "metadata": {},
   "cell_type": "markdown",
   "source": "Separate features and output",
   "id": "fcfd71a69446cfee"
  },
  {
   "metadata": {
    "ExecuteTime": {
     "end_time": "2025-07-05T18:38:39.434790Z",
     "start_time": "2025-07-05T18:38:39.431587Z"
    }
   },
   "cell_type": "code",
   "source": [
    "# Separate features and output\n",
    "print(data.columns)\n",
    "y = data[\"quality\"]\n",
    "X = data.drop(\"quality\", axis=1)"
   ],
   "id": "9cddf6d4c2e8edce",
   "outputs": [
    {
     "name": "stdout",
     "output_type": "stream",
     "text": [
      "Index(['fixed acidity', 'volatile acidity', 'citric acid', 'residual sugar',\n",
      "       'chlorides', 'free sulfur dioxide', 'total sulfur dioxide', 'density',\n",
      "       'pH', 'sulphates', 'alcohol', 'quality'],\n",
      "      dtype='object')\n"
     ]
    }
   ],
   "execution_count": 205
  },
  {
   "metadata": {
    "ExecuteTime": {
     "end_time": "2025-07-05T18:38:39.463711Z",
     "start_time": "2025-07-05T18:38:39.458383Z"
    }
   },
   "cell_type": "code",
   "source": [
    "# Step 3. Standardize the features\n",
    "scaler = StandardScaler()\n",
    "X_scaled = scaler.fit_transform(X)"
   ],
   "id": "39738e42a1da195c",
   "outputs": [],
   "execution_count": 206
  },
  {
   "metadata": {
    "ExecuteTime": {
     "end_time": "2025-07-05T18:38:40.236776Z",
     "start_time": "2025-07-05T18:38:39.489712Z"
    }
   },
   "cell_type": "code",
   "source": [
    "# Step 4. Determine optimal number of clusters (Elbow method)\n",
    "wcss = []\n",
    "range_n_clusters = range(2, 50)\n",
    "\n",
    "for n_clusters in range_n_clusters:\n",
    "    kmeans = KMeans(n_clusters=n_clusters, random_state=42)\n",
    "    kmeans.fit(X_scaled)\n",
    "    wcss.append(kmeans.inertia_)\n",
    "\n",
    "plt.figure()\n",
    "plt.plot(range_n_clusters, wcss, marker='o')\n",
    "plt.title(\"Elbow Method for Optimal k\")\n",
    "plt.xlabel(\"Number of clusters\")\n",
    "plt.ylabel(\"WCSS\")\n",
    "plt.show()"
   ],
   "id": "17069b5f1c0a606c",
   "outputs": [
    {
     "name": "stderr",
     "output_type": "stream",
     "text": [
      "C:\\Users\\blatt\\anaconda3\\Lib\\site-packages\\sklearn\\cluster\\_kmeans.py:1429: UserWarning:\n",
      "\n",
      "KMeans is known to have a memory leak on Windows with MKL, when there are less chunks than available threads. You can avoid it by setting the environment variable OMP_NUM_THREADS=7.\n",
      "\n",
      "C:\\Users\\blatt\\anaconda3\\Lib\\site-packages\\sklearn\\cluster\\_kmeans.py:1429: UserWarning:\n",
      "\n",
      "KMeans is known to have a memory leak on Windows with MKL, when there are less chunks than available threads. You can avoid it by setting the environment variable OMP_NUM_THREADS=7.\n",
      "\n",
      "C:\\Users\\blatt\\anaconda3\\Lib\\site-packages\\sklearn\\cluster\\_kmeans.py:1429: UserWarning:\n",
      "\n",
      "KMeans is known to have a memory leak on Windows with MKL, when there are less chunks than available threads. You can avoid it by setting the environment variable OMP_NUM_THREADS=7.\n",
      "\n",
      "C:\\Users\\blatt\\anaconda3\\Lib\\site-packages\\sklearn\\cluster\\_kmeans.py:1429: UserWarning:\n",
      "\n",
      "KMeans is known to have a memory leak on Windows with MKL, when there are less chunks than available threads. You can avoid it by setting the environment variable OMP_NUM_THREADS=7.\n",
      "\n",
      "C:\\Users\\blatt\\anaconda3\\Lib\\site-packages\\sklearn\\cluster\\_kmeans.py:1429: UserWarning:\n",
      "\n",
      "KMeans is known to have a memory leak on Windows with MKL, when there are less chunks than available threads. You can avoid it by setting the environment variable OMP_NUM_THREADS=7.\n",
      "\n",
      "C:\\Users\\blatt\\anaconda3\\Lib\\site-packages\\sklearn\\cluster\\_kmeans.py:1429: UserWarning:\n",
      "\n",
      "KMeans is known to have a memory leak on Windows with MKL, when there are less chunks than available threads. You can avoid it by setting the environment variable OMP_NUM_THREADS=7.\n",
      "\n",
      "C:\\Users\\blatt\\anaconda3\\Lib\\site-packages\\sklearn\\cluster\\_kmeans.py:1429: UserWarning:\n",
      "\n",
      "KMeans is known to have a memory leak on Windows with MKL, when there are less chunks than available threads. You can avoid it by setting the environment variable OMP_NUM_THREADS=7.\n",
      "\n",
      "C:\\Users\\blatt\\anaconda3\\Lib\\site-packages\\sklearn\\cluster\\_kmeans.py:1429: UserWarning:\n",
      "\n",
      "KMeans is known to have a memory leak on Windows with MKL, when there are less chunks than available threads. You can avoid it by setting the environment variable OMP_NUM_THREADS=7.\n",
      "\n",
      "C:\\Users\\blatt\\anaconda3\\Lib\\site-packages\\sklearn\\cluster\\_kmeans.py:1429: UserWarning:\n",
      "\n",
      "KMeans is known to have a memory leak on Windows with MKL, when there are less chunks than available threads. You can avoid it by setting the environment variable OMP_NUM_THREADS=7.\n",
      "\n",
      "C:\\Users\\blatt\\anaconda3\\Lib\\site-packages\\sklearn\\cluster\\_kmeans.py:1429: UserWarning:\n",
      "\n",
      "KMeans is known to have a memory leak on Windows with MKL, when there are less chunks than available threads. You can avoid it by setting the environment variable OMP_NUM_THREADS=7.\n",
      "\n",
      "C:\\Users\\blatt\\anaconda3\\Lib\\site-packages\\sklearn\\cluster\\_kmeans.py:1429: UserWarning:\n",
      "\n",
      "KMeans is known to have a memory leak on Windows with MKL, when there are less chunks than available threads. You can avoid it by setting the environment variable OMP_NUM_THREADS=7.\n",
      "\n",
      "C:\\Users\\blatt\\anaconda3\\Lib\\site-packages\\sklearn\\cluster\\_kmeans.py:1429: UserWarning:\n",
      "\n",
      "KMeans is known to have a memory leak on Windows with MKL, when there are less chunks than available threads. You can avoid it by setting the environment variable OMP_NUM_THREADS=7.\n",
      "\n",
      "C:\\Users\\blatt\\anaconda3\\Lib\\site-packages\\sklearn\\cluster\\_kmeans.py:1429: UserWarning:\n",
      "\n",
      "KMeans is known to have a memory leak on Windows with MKL, when there are less chunks than available threads. You can avoid it by setting the environment variable OMP_NUM_THREADS=7.\n",
      "\n",
      "C:\\Users\\blatt\\anaconda3\\Lib\\site-packages\\sklearn\\cluster\\_kmeans.py:1429: UserWarning:\n",
      "\n",
      "KMeans is known to have a memory leak on Windows with MKL, when there are less chunks than available threads. You can avoid it by setting the environment variable OMP_NUM_THREADS=7.\n",
      "\n",
      "C:\\Users\\blatt\\anaconda3\\Lib\\site-packages\\sklearn\\cluster\\_kmeans.py:1429: UserWarning:\n",
      "\n",
      "KMeans is known to have a memory leak on Windows with MKL, when there are less chunks than available threads. You can avoid it by setting the environment variable OMP_NUM_THREADS=7.\n",
      "\n",
      "C:\\Users\\blatt\\anaconda3\\Lib\\site-packages\\sklearn\\cluster\\_kmeans.py:1429: UserWarning:\n",
      "\n",
      "KMeans is known to have a memory leak on Windows with MKL, when there are less chunks than available threads. You can avoid it by setting the environment variable OMP_NUM_THREADS=7.\n",
      "\n",
      "C:\\Users\\blatt\\anaconda3\\Lib\\site-packages\\sklearn\\cluster\\_kmeans.py:1429: UserWarning:\n",
      "\n",
      "KMeans is known to have a memory leak on Windows with MKL, when there are less chunks than available threads. You can avoid it by setting the environment variable OMP_NUM_THREADS=7.\n",
      "\n",
      "C:\\Users\\blatt\\anaconda3\\Lib\\site-packages\\sklearn\\cluster\\_kmeans.py:1429: UserWarning:\n",
      "\n",
      "KMeans is known to have a memory leak on Windows with MKL, when there are less chunks than available threads. You can avoid it by setting the environment variable OMP_NUM_THREADS=7.\n",
      "\n",
      "C:\\Users\\blatt\\anaconda3\\Lib\\site-packages\\sklearn\\cluster\\_kmeans.py:1429: UserWarning:\n",
      "\n",
      "KMeans is known to have a memory leak on Windows with MKL, when there are less chunks than available threads. You can avoid it by setting the environment variable OMP_NUM_THREADS=7.\n",
      "\n",
      "C:\\Users\\blatt\\anaconda3\\Lib\\site-packages\\sklearn\\cluster\\_kmeans.py:1429: UserWarning:\n",
      "\n",
      "KMeans is known to have a memory leak on Windows with MKL, when there are less chunks than available threads. You can avoid it by setting the environment variable OMP_NUM_THREADS=7.\n",
      "\n",
      "C:\\Users\\blatt\\anaconda3\\Lib\\site-packages\\sklearn\\cluster\\_kmeans.py:1429: UserWarning:\n",
      "\n",
      "KMeans is known to have a memory leak on Windows with MKL, when there are less chunks than available threads. You can avoid it by setting the environment variable OMP_NUM_THREADS=7.\n",
      "\n",
      "C:\\Users\\blatt\\anaconda3\\Lib\\site-packages\\sklearn\\cluster\\_kmeans.py:1429: UserWarning:\n",
      "\n",
      "KMeans is known to have a memory leak on Windows with MKL, when there are less chunks than available threads. You can avoid it by setting the environment variable OMP_NUM_THREADS=7.\n",
      "\n",
      "C:\\Users\\blatt\\anaconda3\\Lib\\site-packages\\sklearn\\cluster\\_kmeans.py:1429: UserWarning:\n",
      "\n",
      "KMeans is known to have a memory leak on Windows with MKL, when there are less chunks than available threads. You can avoid it by setting the environment variable OMP_NUM_THREADS=7.\n",
      "\n",
      "C:\\Users\\blatt\\anaconda3\\Lib\\site-packages\\sklearn\\cluster\\_kmeans.py:1429: UserWarning:\n",
      "\n",
      "KMeans is known to have a memory leak on Windows with MKL, when there are less chunks than available threads. You can avoid it by setting the environment variable OMP_NUM_THREADS=7.\n",
      "\n",
      "C:\\Users\\blatt\\anaconda3\\Lib\\site-packages\\sklearn\\cluster\\_kmeans.py:1429: UserWarning:\n",
      "\n",
      "KMeans is known to have a memory leak on Windows with MKL, when there are less chunks than available threads. You can avoid it by setting the environment variable OMP_NUM_THREADS=7.\n",
      "\n",
      "C:\\Users\\blatt\\anaconda3\\Lib\\site-packages\\sklearn\\cluster\\_kmeans.py:1429: UserWarning:\n",
      "\n",
      "KMeans is known to have a memory leak on Windows with MKL, when there are less chunks than available threads. You can avoid it by setting the environment variable OMP_NUM_THREADS=7.\n",
      "\n",
      "C:\\Users\\blatt\\anaconda3\\Lib\\site-packages\\sklearn\\cluster\\_kmeans.py:1429: UserWarning:\n",
      "\n",
      "KMeans is known to have a memory leak on Windows with MKL, when there are less chunks than available threads. You can avoid it by setting the environment variable OMP_NUM_THREADS=7.\n",
      "\n",
      "C:\\Users\\blatt\\anaconda3\\Lib\\site-packages\\sklearn\\cluster\\_kmeans.py:1429: UserWarning:\n",
      "\n",
      "KMeans is known to have a memory leak on Windows with MKL, when there are less chunks than available threads. You can avoid it by setting the environment variable OMP_NUM_THREADS=7.\n",
      "\n",
      "C:\\Users\\blatt\\anaconda3\\Lib\\site-packages\\sklearn\\cluster\\_kmeans.py:1429: UserWarning:\n",
      "\n",
      "KMeans is known to have a memory leak on Windows with MKL, when there are less chunks than available threads. You can avoid it by setting the environment variable OMP_NUM_THREADS=7.\n",
      "\n",
      "C:\\Users\\blatt\\anaconda3\\Lib\\site-packages\\sklearn\\cluster\\_kmeans.py:1429: UserWarning:\n",
      "\n",
      "KMeans is known to have a memory leak on Windows with MKL, when there are less chunks than available threads. You can avoid it by setting the environment variable OMP_NUM_THREADS=7.\n",
      "\n",
      "C:\\Users\\blatt\\anaconda3\\Lib\\site-packages\\sklearn\\cluster\\_kmeans.py:1429: UserWarning:\n",
      "\n",
      "KMeans is known to have a memory leak on Windows with MKL, when there are less chunks than available threads. You can avoid it by setting the environment variable OMP_NUM_THREADS=7.\n",
      "\n",
      "C:\\Users\\blatt\\anaconda3\\Lib\\site-packages\\sklearn\\cluster\\_kmeans.py:1429: UserWarning:\n",
      "\n",
      "KMeans is known to have a memory leak on Windows with MKL, when there are less chunks than available threads. You can avoid it by setting the environment variable OMP_NUM_THREADS=7.\n",
      "\n",
      "C:\\Users\\blatt\\anaconda3\\Lib\\site-packages\\sklearn\\cluster\\_kmeans.py:1429: UserWarning:\n",
      "\n",
      "KMeans is known to have a memory leak on Windows with MKL, when there are less chunks than available threads. You can avoid it by setting the environment variable OMP_NUM_THREADS=7.\n",
      "\n",
      "C:\\Users\\blatt\\anaconda3\\Lib\\site-packages\\sklearn\\cluster\\_kmeans.py:1429: UserWarning:\n",
      "\n",
      "KMeans is known to have a memory leak on Windows with MKL, when there are less chunks than available threads. You can avoid it by setting the environment variable OMP_NUM_THREADS=7.\n",
      "\n",
      "C:\\Users\\blatt\\anaconda3\\Lib\\site-packages\\sklearn\\cluster\\_kmeans.py:1429: UserWarning:\n",
      "\n",
      "KMeans is known to have a memory leak on Windows with MKL, when there are less chunks than available threads. You can avoid it by setting the environment variable OMP_NUM_THREADS=7.\n",
      "\n",
      "C:\\Users\\blatt\\anaconda3\\Lib\\site-packages\\sklearn\\cluster\\_kmeans.py:1429: UserWarning:\n",
      "\n",
      "KMeans is known to have a memory leak on Windows with MKL, when there are less chunks than available threads. You can avoid it by setting the environment variable OMP_NUM_THREADS=7.\n",
      "\n",
      "C:\\Users\\blatt\\anaconda3\\Lib\\site-packages\\sklearn\\cluster\\_kmeans.py:1429: UserWarning:\n",
      "\n",
      "KMeans is known to have a memory leak on Windows with MKL, when there are less chunks than available threads. You can avoid it by setting the environment variable OMP_NUM_THREADS=7.\n",
      "\n",
      "C:\\Users\\blatt\\anaconda3\\Lib\\site-packages\\sklearn\\cluster\\_kmeans.py:1429: UserWarning:\n",
      "\n",
      "KMeans is known to have a memory leak on Windows with MKL, when there are less chunks than available threads. You can avoid it by setting the environment variable OMP_NUM_THREADS=7.\n",
      "\n",
      "C:\\Users\\blatt\\anaconda3\\Lib\\site-packages\\sklearn\\cluster\\_kmeans.py:1429: UserWarning:\n",
      "\n",
      "KMeans is known to have a memory leak on Windows with MKL, when there are less chunks than available threads. You can avoid it by setting the environment variable OMP_NUM_THREADS=7.\n",
      "\n",
      "C:\\Users\\blatt\\anaconda3\\Lib\\site-packages\\sklearn\\cluster\\_kmeans.py:1429: UserWarning:\n",
      "\n",
      "KMeans is known to have a memory leak on Windows with MKL, when there are less chunks than available threads. You can avoid it by setting the environment variable OMP_NUM_THREADS=7.\n",
      "\n",
      "C:\\Users\\blatt\\anaconda3\\Lib\\site-packages\\sklearn\\cluster\\_kmeans.py:1429: UserWarning:\n",
      "\n",
      "KMeans is known to have a memory leak on Windows with MKL, when there are less chunks than available threads. You can avoid it by setting the environment variable OMP_NUM_THREADS=7.\n",
      "\n",
      "C:\\Users\\blatt\\anaconda3\\Lib\\site-packages\\sklearn\\cluster\\_kmeans.py:1429: UserWarning:\n",
      "\n",
      "KMeans is known to have a memory leak on Windows with MKL, when there are less chunks than available threads. You can avoid it by setting the environment variable OMP_NUM_THREADS=7.\n",
      "\n",
      "C:\\Users\\blatt\\anaconda3\\Lib\\site-packages\\sklearn\\cluster\\_kmeans.py:1429: UserWarning:\n",
      "\n",
      "KMeans is known to have a memory leak on Windows with MKL, when there are less chunks than available threads. You can avoid it by setting the environment variable OMP_NUM_THREADS=7.\n",
      "\n",
      "C:\\Users\\blatt\\anaconda3\\Lib\\site-packages\\sklearn\\cluster\\_kmeans.py:1429: UserWarning:\n",
      "\n",
      "KMeans is known to have a memory leak on Windows with MKL, when there are less chunks than available threads. You can avoid it by setting the environment variable OMP_NUM_THREADS=7.\n",
      "\n",
      "C:\\Users\\blatt\\anaconda3\\Lib\\site-packages\\sklearn\\cluster\\_kmeans.py:1429: UserWarning:\n",
      "\n",
      "KMeans is known to have a memory leak on Windows with MKL, when there are less chunks than available threads. You can avoid it by setting the environment variable OMP_NUM_THREADS=7.\n",
      "\n",
      "C:\\Users\\blatt\\anaconda3\\Lib\\site-packages\\sklearn\\cluster\\_kmeans.py:1429: UserWarning:\n",
      "\n",
      "KMeans is known to have a memory leak on Windows with MKL, when there are less chunks than available threads. You can avoid it by setting the environment variable OMP_NUM_THREADS=7.\n",
      "\n",
      "C:\\Users\\blatt\\anaconda3\\Lib\\site-packages\\sklearn\\cluster\\_kmeans.py:1429: UserWarning:\n",
      "\n",
      "KMeans is known to have a memory leak on Windows with MKL, when there are less chunks than available threads. You can avoid it by setting the environment variable OMP_NUM_THREADS=7.\n",
      "\n",
      "C:\\Users\\blatt\\anaconda3\\Lib\\site-packages\\sklearn\\cluster\\_kmeans.py:1429: UserWarning:\n",
      "\n",
      "KMeans is known to have a memory leak on Windows with MKL, when there are less chunks than available threads. You can avoid it by setting the environment variable OMP_NUM_THREADS=7.\n",
      "\n"
     ]
    },
    {
     "data": {
      "text/plain": [
       "<Figure size 640x480 with 1 Axes>"
      ],
      "image/png": "[encoded data removed]"
     },
     "metadata": {},
     "output_type": "display_data"
    }
   ],
   "execution_count": 207
  },
  {
   "metadata": {
    "ExecuteTime": {
     "end_time": "2025-07-05T18:38:40.280823Z",
     "start_time": "2025-07-05T18:38:40.266357Z"
    }
   },
   "cell_type": "code",
   "source": [
    "# Step 5. Fit KMeans with chosen number of clusters (e.g. k=3)\n",
    "k = 10\n",
    "kmeans = KMeans(n_clusters=k, random_state=42)\n",
    "kmeans.fit(X_scaled)\n",
    "clusters = kmeans.labels_\n",
    "\n",
    "# Create DataFrame with cluster assignments\n",
    "X_clustered = pd.DataFrame(X_scaled, columns=X.columns)\n",
    "X_clustered['Cluster'] = clusters\n",
    "X_clustered['Quality'] = y.values\n",
    "\n",
    "# Calculate cluster centers (mean standardized feature values per cluster)\n",
    "cluster_centers = pd.DataFrame(kmeans.cluster_centers_, columns=X.columns)\n",
    "print(\"\\nCluster centers (standardized feature means):\")\n",
    "print(cluster_centers)"
   ],
   "id": "910ff9bd4af92b88",
   "outputs": [
    {
     "name": "stdout",
     "output_type": "stream",
     "text": [
      "\n",
      "Cluster centers (standardized feature means):\n",
      "   fixed acidity  volatile acidity  citric acid  residual sugar  chlorides  \\\n",
      "0      -0.416706          0.639512    -0.790769       -0.210999  -0.041729   \n",
      "1      -0.530146         -0.382206    -0.259900       -0.292207  -0.238971   \n",
      "2       0.070110         -0.023904     1.390011       -0.391139   6.635415   \n",
      "3      -0.336849          0.191946     0.199075        3.034138   0.160659   \n",
      "4       0.054105         -1.008952     0.705827       -0.163177  -0.296841   \n",
      "5       0.307321         -0.637887     0.634537        7.557432   0.764879   \n",
      "6       0.101267          0.425861     0.096638       -0.010249   0.038368   \n",
      "7      -1.200640          0.575673    -0.988157       -0.215248  -0.449602   \n",
      "8       0.584588         -0.232033     0.545174       -0.102534   0.242700   \n",
      "9       1.588499         -0.653563     1.237633        0.132166   0.011809   \n",
      "\n",
      "   free sulfur dioxide  total sulfur dioxide   density        pH  sulphates  \\\n",
      "0            -0.522428             -0.457227 -0.001596  0.320555  -0.401920   \n",
      "1             1.321310              0.497055 -0.306554  0.500722   0.010313   \n",
      "2            -0.079685              0.187234  0.176665 -1.597336   3.141076   \n",
      "3             1.664657              1.963917  0.776803 -0.045424   0.190990   \n",
      "4            -0.381491             -0.590547 -0.813022 -0.190175   0.293906   \n",
      "5             1.455117              0.939511  2.038940 -0.649250   0.010924   \n",
      "6             0.623017              1.470512  0.388126 -0.423548  -0.466628   \n",
      "7             0.022587             -0.203859 -1.459642  1.407880  -0.236603   \n",
      "8             0.681377              1.039663  0.705315 -0.786577   2.966636   \n",
      "9            -0.565705             -0.512999  1.046180 -0.940850   0.244581   \n",
      "\n",
      "    alcohol  \n",
      "0 -0.495961  \n",
      "1 -0.124114  \n",
      "2 -0.940690  \n",
      "3 -0.243004  \n",
      "4  1.144168  \n",
      "5 -0.704245  \n",
      "6 -0.710575  \n",
      "7  1.410337  \n",
      "8 -0.380951  \n",
      "9  0.032692  \n"
     ]
    },
    {
     "name": "stderr",
     "output_type": "stream",
     "text": [
      "C:\\Users\\blatt\\anaconda3\\Lib\\site-packages\\sklearn\\cluster\\_kmeans.py:1429: UserWarning:\n",
      "\n",
      "KMeans is known to have a memory leak on Windows with MKL, when there are less chunks than available threads. You can avoid it by setting the environment variable OMP_NUM_THREADS=7.\n",
      "\n"
     ]
    }
   ],
   "execution_count": 208
  },
  {
   "metadata": {
    "ExecuteTime": {
     "end_time": "2025-07-05T18:38:40.370096Z",
     "start_time": "2025-07-05T18:38:40.365645Z"
    }
   },
   "cell_type": "code",
   "source": [
    "quality_per_cluster = X_clustered.groupby(\"Cluster\")[\"Quality\"].mean()\n",
    "print(\"\\nAverage Quality per Cluster:\")\n",
    "print(quality_per_cluster)"
   ],
   "id": "18f12736e45a51bc",
   "outputs": [
    {
     "name": "stdout",
     "output_type": "stream",
     "text": [
      "\n",
      "Average Quality per Cluster:\n",
      "Cluster\n",
      "0    5.329140\n",
      "1    5.652850\n",
      "2    5.291667\n",
      "3    5.384615\n",
      "4    6.385714\n",
      "5    5.545455\n",
      "6    5.220513\n",
      "7    5.847222\n",
      "8    5.400000\n",
      "9    5.870849\n",
      "Name: Quality, dtype: float64\n"
     ]
    }
   ],
   "execution_count": 209
  },
  {
   "metadata": {
    "ExecuteTime": {
     "end_time": "2025-07-05T18:38:40.448236Z",
     "start_time": "2025-07-05T18:38:40.442059Z"
    }
   },
   "cell_type": "code",
   "source": [
    "cluster_centers_original = pd.DataFrame(scaler.inverse_transform(kmeans.cluster_centers_),\n",
    "                                        columns=X.columns)\n",
    "print(\"\\nCluster centers (original feature units):\")\n",
    "print(cluster_centers_original)"
   ],
   "id": "797e08db9357b3cd",
   "outputs": [
    {
     "name": "stdout",
     "output_type": "stream",
     "text": [
      "\n",
      "Cluster centers (original feature units):\n",
      "   fixed acidity  volatile acidity  citric acid  residual sugar  chlorides  \\\n",
      "0       7.594340          0.642296     0.116981        2.241405   0.085503   \n",
      "1       7.396891          0.459404     0.220363        2.126943   0.076223   \n",
      "2       8.441667          0.523542     0.541667        1.987500   0.399667   \n",
      "3       7.733333          0.562179     0.309744        6.815385   0.095026   \n",
      "4       8.413810          0.347214     0.408429        2.308810   0.073500   \n",
      "5       8.854545          0.413636     0.394545       13.190909   0.123455   \n",
      "6       8.495897          0.604051     0.289795        2.524359   0.089272   \n",
      "7       6.229861          0.630868     0.078542        2.235417   0.066312   \n",
      "8       9.337143          0.486286     0.377143        2.394286   0.098886   \n",
      "9      11.084502          0.410830     0.511993        2.725092   0.088022   \n",
      "\n",
      "   free sulfur dioxide  total sulfur dioxide   density        pH  sulphates  \\\n",
      "0            10.411950             31.431866  0.996744  3.360587   0.590042   \n",
      "1            29.691710             62.813472  0.996168  3.388394   0.659896   \n",
      "2            15.041667             52.625000  0.997080  3.064583   1.190417   \n",
      "3            33.282051            111.051282  0.998212  3.304103   0.690513   \n",
      "4            11.885714             27.047619  0.995213  3.281762   0.707952   \n",
      "5            31.090909             77.363636  1.000594  3.210909   0.660000   \n",
      "6            22.389744             94.825641  0.997479  3.245744   0.579077   \n",
      "7            16.111111             39.763889  0.993993  3.528403   0.618056   \n",
      "8            23.000000             80.657143  0.998077  3.189714   1.160857   \n",
      "9             9.959410             29.597786  0.998721  3.165904   0.699594   \n",
      "\n",
      "     alcohol  \n",
      "0   9.894619  \n",
      "1  10.290760  \n",
      "2   9.420833  \n",
      "3  10.164103  \n",
      "4  11.641905  \n",
      "5   9.672727  \n",
      "6   9.665983  \n",
      "7  11.925463  \n",
      "8  10.017143  \n",
      "9  10.457811  \n"
     ]
    }
   ],
   "execution_count": 210
  },
  {
   "metadata": {
    "ExecuteTime": {
     "end_time": "2025-07-05T18:38:40.531714Z",
     "start_time": "2025-07-05T18:38:40.527100Z"
    }
   },
   "cell_type": "code",
   "source": [
    "quality_per_cluster = quality_per_cluster.reset_index()\n",
    "cluster_centers_original['Cluster'] = quality_per_cluster['Cluster']\n",
    "cluster_centers_original['Average_Quality'] = quality_per_cluster['Quality']"
   ],
   "id": "310508004870daf6",
   "outputs": [],
   "execution_count": 211
  },
  {
   "metadata": {
    "ExecuteTime": {
     "end_time": "2025-07-05T18:38:40.564672Z",
     "start_time": "2025-07-05T18:38:40.556853Z"
    }
   },
   "cell_type": "code",
   "source": [
    "# Calculate Pearson correlation for each feature vs Average_Quality\n",
    "correlations = {}\n",
    "\n",
    "for feature in X.columns:\n",
    "    corr = cluster_centers_original[[feature, 'Average_Quality']].corr().iloc[0,1]\n",
    "    correlations[feature] = corr\n",
    "\n",
    "# Convert to DataFrame for better readability\n",
    "correlations_df = pd.DataFrame.from_dict(correlations, orient='index', columns=['Correlation_with_Quality'])\n",
    "correlations_df = correlations_df.sort_values(by='Correlation_with_Quality', ascending=False)\n",
    "\n",
    "print(correlations_df)"
   ],
   "id": "7cda0c10abc69f55",
   "outputs": [
    {
     "name": "stdout",
     "output_type": "stream",
     "text": [
      "                      Correlation_with_Quality\n",
      "alcohol                               0.830689\n",
      "pH                                    0.264338\n",
      "citric acid                           0.084055\n",
      "fixed acidity                         0.058837\n",
      "residual sugar                       -0.116948\n",
      "sulphates                            -0.241314\n",
      "chlorides                            -0.362773\n",
      "free sulfur dioxide                  -0.363138\n",
      "density                              -0.419333\n",
      "total sulfur dioxide                 -0.611425\n",
      "volatile acidity                     -0.625599\n"
     ]
    }
   ],
   "execution_count": 212
  },
  {
   "metadata": {
    "ExecuteTime": {
     "end_time": "2025-07-05T18:38:40.593504Z",
     "start_time": "2025-07-05T18:38:40.591995Z"
    }
   },
   "cell_type": "code",
   "source": "",
   "id": "62c69fabc8a4f31a",
   "outputs": [],
   "execution_count": null
  }
 ],
 "metadata": {
  "kernelspec": {
   "display_name": "Python 3",
   "language": "python",
   "name": "python3"
  },
  "language_info": {
   "codemirror_mode": {
    "name": "ipython",
    "version": 2
   },
   "file_extension": ".py",
   "mimetype": "text/x-python",
   "name": "python",
   "nbconvert_exporter": "python",
   "pygments_lexer": "ipython2",
   "version": "2.7.6"
  }
 },
 "nbformat": 4,
 "nbformat_minor": 5
}
